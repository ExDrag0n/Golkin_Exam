{
  "nbformat": 4,
  "nbformat_minor": 0,
  "metadata": {
    "colab": {
      "name": "Homework2_Golkin.ipynb",
      "provenance": [],
      "collapsed_sections": [],
      "authorship_tag": "ABX9TyMsfTVqOnqrwI1jQOS7Kq+t",
      "include_colab_link": true
    },
    "kernelspec": {
      "name": "python3",
      "display_name": "Python 3"
    },
    "language_info": {
      "name": "python"
    }
  },
  "cells": [
    {
      "cell_type": "markdown",
      "metadata": {
        "id": "view-in-github",
        "colab_type": "text"
      },
      "source": [
        "<a href=\"https://colab.research.google.com/github/ExDrag0n/Golkin_Exam/blob/master/Homework2_Golkin.ipynb\" target=\"_parent\"><img src=\"https://colab.research.google.com/assets/colab-badge.svg\" alt=\"Open In Colab\"/></a>"
      ]
    },
    {
      "cell_type": "markdown",
      "metadata": {
        "id": "MgSSEnQbC2Ho"
      },
      "source": [
        "Задача 1.\n",
        "\n",
        "Даны четыре действительных числа: x1, y1, x2, y2. Напишите функцию distance(x1, y1, x2, y2), вычисляющая расстояние между точкой (x1,y1) и (x2,y2)."
      ]
    },
    {
      "cell_type": "code",
      "metadata": {
        "id": "4SztxK-6FL4H"
      },
      "source": [
        "def dist(x1, y1, x2, y2):\n",
        "    global s\n",
        "    sqrt = (x2-x1)**2+(y2-y1)**2\n",
        "    s = sqrt\n",
        "    return s\n",
        "x1, y1, x2, y2 = map(int, input().split())\n",
        "dist (x1, y1, x2, y2)\n",
        "print (s)"
      ],
      "execution_count": null,
      "outputs": []
    },
    {
      "cell_type": "markdown",
      "metadata": {
        "id": "RXa4SiU5G1as"
      },
      "source": [
        "Задача 2.\n",
        "\n",
        "Написать функцию season(month), принимающую 1 аргумент — номер месяца (от 1 до 12), которая присваивает глобальной переменной s время года, которому этот месяц принадлежит (зима, весна, лето или осень)."
      ]
    },
    {
      "cell_type": "code",
      "metadata": {
        "id": "-PE7UMt9G8DA"
      },
      "source": [
        "s = ' '\n",
        "def seas(month):\n",
        "    global s\n",
        "    if month == 1 or month == 12 or month == 2:\n",
        "        s = 'Зима'\n",
        "    elif month == 3 or month == 4 or month == 5:\n",
        "        s ='Весна'\n",
        "    elif month == 6 or month == 7 or month == 8:\n",
        "        s = 'Лето'\n",
        "    elif month == 9 or month == 10 or month == 11:\n",
        "        s = 'Осень'\n",
        "    else:\n",
        "      print ('Введите число от 1 до 12')\n",
        "      return None\n",
        "month=int(input())\n",
        "seas(month)\n",
        "print(s)"
      ],
      "execution_count": null,
      "outputs": []
    },
    {
      "cell_type": "markdown",
      "metadata": {
        "id": "OFlwnN9VJ1EV"
      },
      "source": [
        "Задача 3.\n",
        "\n",
        "Написать функцию is_prime, принимающую 1 аргумент — число от 0 до 1000, и возвращающую True, если оно простое, и False - иначе."
      ]
    },
    {
      "cell_type": "code",
      "metadata": {
        "id": "1QAh54YqJ5Z9"
      },
      "source": [
        "def is_prime(n):\n",
        "    global flag, i\n",
        "    i = 2\n",
        "    while i < n:\n",
        "        s = n%i\n",
        "        i += 1\n",
        "        if s == 0:\n",
        "            flag = False\n",
        "            return flag\n",
        "        else:\n",
        "            s = n%i\n",
        "            if s != 0:\n",
        "                flag = True\n",
        "                return flag\n",
        "n=int(input())\n",
        "is_prime(n)\n",
        "print(flag)"
      ],
      "execution_count": null,
      "outputs": []
    },
    {
      "cell_type": "markdown",
      "metadata": {
        "id": "JFnzkmmsU4OO"
      },
      "source": [
        "Задача 4.\n",
        "\n",
        "Написать функцию reverse_list(lst), которая принимает в качестве аргумента список и возвращаем его в перевернутом виде.\n",
        "\n",
        "Например,\n",
        "\n",
        "исходный спискок: 8, 1, 0, 4\n",
        "полученный спискок: 4, 0, 1, 8\n",
        "Использовать встроенные функции Python нельзя."
      ]
    },
    {
      "cell_type": "code",
      "metadata": {
        "id": "fVRx3sF2U7wY"
      },
      "source": [
        "def reverse_list(lst):\n",
        "    lst = [lst[i] for i in range(len(lst) - 1, -1, -1)]#от последнего индекса массива до -1 (0) с шагом -1\n",
        "    return lst"
      ],
      "execution_count": null,
      "outputs": []
    },
    {
      "cell_type": "markdown",
      "metadata": {
        "id": "iH_Jft_3WEgh"
      },
      "source": [
        "Задача 5.\n",
        "\n",
        "Распечатайте с 4 по 8 символ фразы \"Привет мир!\" приведенные к верхнему регистру."
      ]
    },
    {
      "cell_type": "code",
      "metadata": {
        "id": "EHexZF5ZWFgH"
      },
      "source": [
        "x= 'Привет мир!'\n",
        "y = x [3:8].upper()\n",
        "print(y)"
      ],
      "execution_count": null,
      "outputs": []
    },
    {
      "cell_type": "markdown",
      "metadata": {
        "id": "fMDcISBI1wMk"
      },
      "source": [
        "**Задача 6**.\n",
        "\n",
        "Напишите код, который все элементы массива x с нечетными индексами переставит в обратном порядке.\n",
        "\n",
        "Т.е. если x = [0, 1, 2, 3, 4, 5, 6, 7, 8, 9], то код должен получать [0, 9, 2, 7, 4, 5, 6, 3, 8, 1]"
      ]
    },
    {
      "cell_type": "code",
      "metadata": {
        "colab": {
          "base_uri": "https://localhost:8080/"
        },
        "id": "Pziluj3Y17DZ",
        "outputId": "eb6c2775-48d8-479e-a32b-da795af1e33b"
      },
      "source": [
        "lst = [0, 1, 2, 3, 4, 5, 6, 7, 8, 9]\n",
        "i = lst[0]\n",
        "for i in lst:\n",
        "  if lst[i] % 2 == 1:\n",
        "    lst = [lst[i] for i in range(len(lst) - 1, -1, -1)]\n",
        "    i += 1\n",
        "print(lst)"
      ],
      "execution_count": null,
      "outputs": [
        {
          "output_type": "stream",
          "name": "stdout",
          "text": [
            "[9, 8, 7, 6, 5, 4, 3, 2, 1, 0]\n"
          ]
        }
      ]
    },
    {
      "cell_type": "markdown",
      "metadata": {
        "id": "-791OfdX4J86"
      },
      "source": [
        "**Задача 7**.\n",
        "\n",
        "Напишите цикл, который выводит все числа от 0 до 500, делящиеся на 7, если в них есть цифра 8."
      ]
    },
    {
      "cell_type": "code",
      "metadata": {
        "id": "cJWIRoNb4JeU"
      },
      "source": [
        "c=0\n",
        "for i in  range(501):\n",
        "  if i>0 and i<100:\n",
        "    if ((i//10==8) or (i%10==8)) and (i%7==0):\n",
        "      print(i)\n",
        "  elif i>99 and i<501:\n",
        "    if  ((i%10==8) or ((i//10)%10)==8) and (i%7==0):\n",
        "      print(i)"
      ],
      "execution_count": null,
      "outputs": []
    },
    {
      "cell_type": "markdown",
      "metadata": {
        "id": "McycwDZOHjk7"
      },
      "source": [
        "Задача 8.\n",
        "\n",
        "На вход функция more_than_five(lst) получает список из целых чисел. Результатом работы функции должен стать новый список, в котором содержатся только те числа, которые больше 10 по модулю."
      ]
    },
    {
      "cell_type": "code",
      "metadata": {
        "id": "5AFfp-2vHj5X"
      },
      "source": [
        "def more_than_five(lst):\n",
        "    newlst = [i for i in lst if abs(i) > 10]\n",
        "    return newlst\n",
        "\n",
        "print(more_than_five([1, 2, 3, 20, -12, 47, -100, 31, 0, 1]))"
      ],
      "execution_count": null,
      "outputs": []
    }
  ]
}